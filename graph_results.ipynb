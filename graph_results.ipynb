{
 "cells": [
  {
   "cell_type": "code",
   "execution_count": 3,
   "metadata": {},
   "outputs": [
    {
     "name": "stdout",
     "output_type": "stream",
     "text": [
      "{'Continent': [' \"language\": \"English\"}, {\"city\": \"%s\", \"continent\": \"-test', '[{\"city\": \"Los Angeles\", \"continent\": \"North America\"}, {\"city\": \"%s\", \"continent\": \"-test', 'city: %s, continent:-test'], 'Latitude': ['[{\"city\": \"Paris\", \"lat\": \"48.9\"}, {\"city\": \"%s\", \"lat\": \"-test', '[{\"city\": \"Paris\", \"lat\": \"49\"}, {\"city\": \"%s\", \"lat\": \"-test', '[{\"city\": \"St. Petersburg\", \"lat\": \"59.9\"}, {\"city\": \"%s\", \"lat\": \"-test', '[{\"city\": \"Tokyo\", \"lat\": \"36\"}, {\"city\": \"%s\", \"lat\": \"-test', 'city: %s, latitude: (-test'], 'Longitude': [' \"lat\": \"37.7749° N\"}, {\"city\": \"%s\", \"long\": \"-test', '[{\"city\": \"Kuala Lumpur\", \"long\": \"101.7\"}, {\"city\": \"%s\", \"long\": \"-test', '[{\"city\": \"San Francisco\", \"long\": \"122.4\"}, {\"city\": \"%s\", \"long\": \"-test', 'city: %s, longitude: -test'], 'Language': [' \"continent\": \"Asia\"}, {\"city\": \"%s\", \"language\": \"-test', 'People in Beijing speak Chinese. People in %s speak-test', 'People in Hong Kong speak Chinese, English. People in %s speak-test', \"The city of %s's government offer services in the following languages:-test\", '[{\"city\": \"Bangkok\", \"lang\": \"Thai\"}, {\"city\": \"%s\", \"lang\": \"-test'], 'Timezone': ['The IANA time zone identifier for %s is-test', '[{\"city\": \"Paris\", \"timezone\": \"UTC+01:00\"}, {\"city\": \"%s\", \"timezone\": \"UTC-test', 'city: %s, UTC offset:-test', 'city: %s, timezone: UTC-test']}\n",
      "Continent\n",
      "Latitude\n",
      "Longitude\n",
      "Language\n",
      "Timezone\n",
      "Country F\n"
     ]
    }
   ],
   "source": [
    "import json\n",
    "import collections\n",
    "import os\n",
    "\n",
    "\n",
    "from src.utils.metric_utils import compute_disentangle_score, compute_disentangle_scores_possible_empties\n",
    "\n",
    "\n",
    "REPO_DIR = f\"/workspace/ravel\"\n",
    "SRC_DIR = os.path.join(REPO_DIR, \"src\")\n",
    "MODEL_DIR = os.path.join(REPO_DIR, \"models\")\n",
    "DATA_DIR = os.path.join(REPO_DIR, \"data\")\n",
    "\n",
    "tinyllama_dimension_to_log_path = {\n",
    "    'SAE': {d: f'tinyllama-layer14-dim8192-reg0.5-ep5-sae-city_wikipedia_200k_dim{d}_3tok_Country.json'\n",
    "            # Update the following dimensions to match your own results.\n",
    "            # SAE might have different feature dimensions from run to run due to\n",
    "            # randomness in the feature selection algorithm.\n",
    "            for d in [71, 325, 399, 536, 8192]\n",
    "    },\n",
    "    # 'DAS': {d: f'tinyllama-layer14-dim{d}-baseline_daslora_3tok_Country_len48_pose_ep3_cause20000_evalall.json'\n",
    "    #         for d in [16, 64]},\n",
    "    # 'MDAS': {d: f'tinyllama-layer14-dim{d}-multitask_daslora_3tok_Country1_ex_Continent+Latitude+Longitude+Language+Timezone_len48_pose_ep3_cause20000_iso4000_evalall.json'\n",
    "    #          for d in [16, 64]\n",
    "    # },\n",
    "}\n",
    "# tinyllama_dimension_to_log_path['RandomSAE'] = {\n",
    "#             64: f'tinyllama-layer14-dim8192-reg0.5-ep5-sae-city_wikipedia_200k_random_dim64_3tok_Country.json',\n",
    "#             512: f'tinyllama-layer14-dim8192-reg0.5-ep5-sae-city_wikipedia_200k_random_dim512_3tok_Country.json'\n",
    "#             }\n",
    "\n",
    "\n",
    "\n",
    "entity_type = 'city'\n",
    "target_attribute = 'Country'\n",
    "split_type = 'context'\n",
    "split_suffix = '-test'\n",
    "model_name = 'tinyllama'\n",
    "\n",
    "\n",
    "split_to_raw_example = json.load(\n",
    "    open(os.path.join(DATA_DIR, model_name, f'{model_name}_{entity_type}_{split_type}_test.json')))\n",
    "attribute_to_prompts = json.load(\n",
    "    open(os.path.join(DATA_DIR, 'base', f'ravel_{entity_type}_attribute_to_prompts.json')))\n",
    "\n",
    "\n",
    "attribute_to_iso_tasks = {\n",
    "    a: [p + split_suffix for p in ps if p + split_suffix in split_to_raw_example]\n",
    "    for a, ps in attribute_to_prompts.items() if a != target_attribute}\n",
    "attribute_to_cause_tasks = {\n",
    "    a: [p + split_suffix for p in ps if p + split_suffix in split_to_raw_example]\n",
    "    for a, ps in attribute_to_prompts.items() if a == target_attribute}\n",
    "\n",
    "print(attribute_to_iso_tasks)\n",
    "\n",
    "for key in attribute_to_iso_tasks:\n",
    "  print(key)\n",
    "\n",
    "for key in attribute_to_cause_tasks:\n",
    "  print(key, \"Cause\")\n",
    "\n",
    "\n",
    "# method_to_data = collections.defaultdict(dict)\n",
    "# for method in tinyllama_dimension_to_log_path:\n",
    "#   for inv_dimension in tinyllama_dimension_to_log_path[method]:\n",
    "#     log_data = json.load(\n",
    "#         open(os.path.join(MODEL_DIR, tinyllama_dimension_to_log_path[method][inv_dimension])))\n",
    "\n",
    "#     # print(log_data)\n",
    "\n",
    "#     # for key in log_data:\n",
    "#     #   print(key, log_data[key], \"\\n\")\n",
    "\n",
    "#     method_to_data[method][inv_dimension] = compute_disentangle_scores_possible_empties(\n",
    "#         log_data, attribute_to_iso_tasks, attribute_to_cause_tasks)"
   ]
  },
  {
   "cell_type": "code",
   "execution_count": null,
   "metadata": {},
   "outputs": [],
   "source": []
  }
 ],
 "metadata": {
  "kernelspec": {
   "display_name": "base",
   "language": "python",
   "name": "python3"
  },
  "language_info": {
   "codemirror_mode": {
    "name": "ipython",
    "version": 3
   },
   "file_extension": ".py",
   "mimetype": "text/x-python",
   "name": "python",
   "nbconvert_exporter": "python",
   "pygments_lexer": "ipython3",
   "version": "3.10.13"
  }
 },
 "nbformat": 4,
 "nbformat_minor": 2
}
